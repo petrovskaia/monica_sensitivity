{
 "cells": [
  {
   "cell_type": "code",
   "execution_count": 1,
   "metadata": {},
   "outputs": [],
   "source": [
    "import numpy as np\n",
    "import scipy\n",
    "import matplotlib"
   ]
  },
  {
   "cell_type": "code",
   "execution_count": 2,
   "metadata": {},
   "outputs": [],
   "source": [
    "from SALib.sample import saltelli\n",
    "from SALib.analyze import sobol\n",
    "from SALib.test_functions import Ishigami\n",
    "import numpy as np"
   ]
  },
  {
   "cell_type": "code",
   "execution_count": 3,
   "metadata": {},
   "outputs": [],
   "source": [
    "from SALib.sample import saltelli"
   ]
  },
  {
   "cell_type": "code",
   "execution_count": 30,
   "metadata": {},
   "outputs": [],
   "source": [
    "problem = {\n",
    "    'num_vars':4,\n",
    "    'names':['SOC', 'pH', 'CN', 'BD'],\n",
    "    'bounds':[[2.58, 6.20],\n",
    "              [4.6, 6.9],\n",
    "              [10.9, 12.4],\n",
    "              [900, 1350]]}"
   ]
  },
  {
   "cell_type": "code",
   "execution_count": 33,
   "metadata": {},
   "outputs": [],
   "source": [
    "param_values = saltelli.sample(problem, 100000)"
   ]
  },
  {
   "cell_type": "code",
   "execution_count": 34,
   "metadata": {},
   "outputs": [
    {
     "data": {
      "text/plain": [
       "(1000000, 4)"
      ]
     },
     "execution_count": 34,
     "metadata": {},
     "output_type": "execute_result"
    }
   ],
   "source": [
    "param_values.shape"
   ]
  },
  {
   "cell_type": "code",
   "execution_count": 18,
   "metadata": {},
   "outputs": [],
   "source": [
    "np.savetxt(\"Parameters.csv\", param_values, delimiter=',', fmt='%d')"
   ]
  },
  {
   "cell_type": "code",
   "execution_count": 105,
   "metadata": {},
   "outputs": [],
   "source": [
    "Y = Ishigami.evaluate(param_values)"
   ]
  },
  {
   "cell_type": "code",
   "execution_count": 90,
   "metadata": {},
   "outputs": [],
   "source": [
    "from numpy import genfromtxt\n",
    "model_sugar_beet_2014 = genfromtxt('/Users/mikhailgasanov/MONICA/monica_sensitivity/last_git/monica_sensitivity/sobol/sensitivity/sim/yield_5param_smallPV/yield_5param_smallPV/sugar-beet-2017.csv', delimiter=',')"
   ]
  },
  {
   "cell_type": "code",
   "execution_count": 102,
   "metadata": {},
   "outputs": [],
   "source": [
    "only_yield=model_sugar_beet_2014[:,2]"
   ]
  },
  {
   "cell_type": "code",
   "execution_count": 103,
   "metadata": {},
   "outputs": [
    {
     "data": {
      "text/plain": [
       "(12000,)"
      ]
     },
     "execution_count": 103,
     "metadata": {},
     "output_type": "execute_result"
    }
   ],
   "source": [
    "only_yield.shape"
   ]
  },
  {
   "cell_type": "code",
   "execution_count": 116,
   "metadata": {
    "scrolled": true
   },
   "outputs": [
    {
     "name": "stdout",
     "output_type": "stream",
     "text": [
      "Parameter S1 S1_conf ST ST_conf\n",
      "SOC 0.000081 0.000619 0.000039 0.000003\n",
      "PV 0.000000 0.000001 0.000000 0.000000\n",
      "pH 0.000000 0.000000 0.000000 0.000000\n",
      "CN 0.000000 0.000000 0.000000 0.000000\n",
      "BD 1.004717 0.063678 1.004605 0.063697\n",
      "\n",
      "Parameter_1 Parameter_2 S2 S2_conf\n",
      "SOC PV -0.000079 0.000765\n",
      "SOC pH -0.000079 0.000765\n",
      "SOC CN -0.000079 0.000765\n",
      "SOC BD -0.000073 0.001216\n",
      "PV pH 0.000000 0.000002\n",
      "PV CN 0.000000 0.000002\n",
      "PV BD -0.000000 0.000002\n",
      "pH CN -0.000000 0.000000\n",
      "pH BD -0.000000 0.000000\n",
      "CN BD 0.000000 0.000000\n"
     ]
    }
   ],
   "source": [
    "# Perform analysis`\n",
    "Si = sobol.analyze(problem, only_yield, print_to_console=True)"
   ]
  },
  {
   "cell_type": "code",
   "execution_count": 2,
   "metadata": {},
   "outputs": [],
   "source": [
    "\n",
    "# In[50]:\n",
    "\n",
    "\n",
    "import numpy as np\n",
    "import pandas as pd\n",
    "import json\n",
    "import pickle\n",
    "import csv\n",
    "from pandas.io.json import json_normalize\n",
    "import scipy\n",
    "import SALib\n",
    "from SALib.sample import saltelli\n",
    "    \n",
    "def writting_files(str_values):\n",
    "\n",
    "#     import itertools\n",
    "\n",
    "    soc,pv,ph,cn = str_values \n",
    "    \n",
    "    class NpEncoder(json.JSONEncoder):\n",
    "        def default(self, obj):\n",
    "            if isinstance(obj, np.integer):\n",
    "                return int(obj)\n",
    "            elif isinstance(obj, np.floating):\n",
    "                return float(obj)\n",
    "            elif isinstance(obj, np.ndarray):\n",
    "                return obj.tolist()\n",
    "            else:\n",
    "                return super(NpEncoder, self).default(obj)\n",
    "\n",
    "    site_file = './work_kshen/site-min-kshen.json' #site-min-kshen-3-layers.json'\n",
    "    sim_file = './work_kshen/sim-min-kshen.json'\n",
    "\n",
    "#     soil_texture_pd = pd.read_csv('SoilTexture.csv', sep=\";\") \n",
    "#     soil_texture = np.asarray(soil_texture_pd.iloc[:,[0,2,4,5,6,7]])\n",
    "\n",
    "    with open(site_file) as sf:\n",
    "        site_data = json.load(sf)\n",
    "\n",
    "    with open(sim_file) as simf:\n",
    "        sim_data = json.load(simf)   \n",
    "\n",
    "    #selecting necessary keys\n",
    "    keys = list(site_data['SiteParameters']['SoilProfileParameters'][0].keys())\n",
    "#     texture_keys = list(keys.copy()[i] for i in [3,4,7,8,11])\n",
    "    our_keys = list(keys.copy()[i] for i in [1,6,9,10])\n",
    "\n",
    "    #creating range for every soil parameter\n",
    "#     organic_carbon_range=np.arange(2.58,6.20,0.4)\n",
    "#     texture_class_range=list(soil_texture_pd['KA5-class'])\n",
    "#     pore_volume_range=np.arange(0.48,0.67,0.02)\n",
    "#     ph_range=np.arange(4.6,6.9,0.25)\n",
    "#     cn_range=np.arange(10.9,12.4,0.15)\n",
    "    \n",
    "    \n",
    "    soc=soc\n",
    "    pv=pv\n",
    "    ph=ph\n",
    "    cn=cn\n",
    "\n",
    "\n",
    "#     soil_parameters_range = [organic_carbon_range,texture_class_range,pore_volume_range,\n",
    "#                              ph_range,cn_range]\n",
    "\n",
    "    \n",
    "\n",
    "    soil_parameters_names = ['SOC', 'PV', 'pH', 'CN']\n",
    "\n",
    "\n",
    "    #saving site-file and sim-file\n",
    "    #for the first key - SoilOrganicCarbon\n",
    "    # for parameter in range(len(soil_parameters_range)):\n",
    "#     for soc,ka5,pv,ph,cn in itertools.product(soil_parameters_range[0],soil_parameters_range[1],\\\n",
    "#                                               soil_parameters_range[2],soil_parameters_range[3],soil_parameters_range[4]):\n",
    "\n",
    "    site_data_copy=site_data.copy()\n",
    "\n",
    "    #writing main parameters\n",
    "    site_data_copy['SiteParameters']['SoilProfileParameters'][0][our_keys[0]][0]=float('{:.3f}'.format(soc)) \n",
    "#     site_data_copy['SiteParameters']['SoilProfileParameters'][0][our_keys[1]]=ka5\n",
    "    site_data_copy['SiteParameters']['SoilProfileParameters'][0][our_keys[1]][0]=float('{:.3f}'.format(pv))\n",
    "    site_data_copy['SiteParameters']['SoilProfileParameters'][0][our_keys[2]][0]=float('{:.3f}'.format(ph))\n",
    "    site_data_copy['SiteParameters']['SoilProfileParameters'][0][our_keys[3]][0]=float('{:.3f}'.format(cn))\n"
   ]
  },
  {
   "cell_type": "code",
   "execution_count": 24,
   "metadata": {},
   "outputs": [
    {
     "name": "stderr",
     "output_type": "stream",
     "text": [
      "UsageError: Line magic function `%echo` not found.\n"
     ]
    }
   ],
   "source": [
    "\n",
    "import numpy as np\n",
    "import pandas as pd\n",
    "import json\n",
    "import pickle\n",
    "import csv\n",
    "from pandas.io.json import json_normalize\n",
    "import scipy\n",
    "import SALib\n",
    "from SALib.sample import saltelli\n",
    "import subprocess\n",
    "import os\n",
    "\n",
    "def writting_files(str_values, counter):\n",
    "\n",
    "#     import itertools\n",
    "\n",
    "    soc,ph,cn,bd = str_values \n",
    "    \n",
    "    class NpEncoder(json.JSONEncoder):\n",
    "        def default(self, obj):\n",
    "            if isinstance(obj, np.integer):\n",
    "                return int(obj)\n",
    "            elif isinstance(obj, np.floating):\n",
    "                return float(obj)\n",
    "            elif isinstance(obj, np.ndarray):\n",
    "                return obj.tolist()\n",
    "            else:\n",
    "                return super(NpEncoder, self).default(obj)\n",
    "\n",
    "    site_file = './work_kshen/site-min-kshen.json' #site-min-kshen-3-layers.json'\n",
    "    sim_file = './work_kshen/sim-min-kshen.json'\n",
    "\n",
    "#     soil_texture_pd = pd.read_csv('SoilTexture.csv', sep=\";\") \n",
    "#     soil_texture = np.asarray(soil_texture_pd.iloc[:,[0,2,4,5,6,7]])\n",
    "\n",
    "    with open(site_file) as sf:\n",
    "        site_data = json.load(sf)\n",
    "\n",
    "    with open(sim_file) as simf:\n",
    "        sim_data = json.load(simf)   \n",
    "\n",
    "    #selecting necessary keys\n",
    "    keys = list(site_data['SiteParameters']['SoilProfileParameters'][0].keys())\n",
    "#     texture_keys = list(keys.copy()[i] for i in [3,4,7,8,11])\n",
    "    our_keys = list(keys.copy()[i] for i in [1,9,10,11])\n",
    "\n",
    "    #creating range for every soil parameter\n",
    "#     organic_carbon_range=np.arange(2.58,6.20,0.4)\n",
    "#     texture_class_range=list(soil_texture_pd['KA5-class'])\n",
    "#     pore_volume_range=np.arange(0.48,0.67,0.02)\n",
    "#     ph_range=np.arange(4.6,6.9,0.25)\n",
    "#     cn_range=np.arange(10.9,12.4,0.15)\n",
    "    \n",
    "    soc=soc\n",
    "    ph=ph\n",
    "    cn=cn\n",
    "    bd=bd\n",
    "\n",
    "#     soil_parameters_range = [organic_carbon_range,texture_class_range,pore_volume_range,\n",
    "#                              ph_range,cn_range]\n",
    "\n",
    "    soil_parameters_names = ['SOC', 'pH', 'CN','BD']\n",
    "\n",
    "\n",
    "    #saving site-file and sim-file\n",
    "    #for the first key - SoilOrganicCarbon\n",
    "    # for parameter in range(len(soil_parameters_range)):\n",
    "#     for soc,ka5,pv,ph,cn in itertools.product(soil_parameters_range[0],soil_parameters_range[1],\\\n",
    "#                                               soil_parameters_range[2],soil_parameters_range[3],soil_parameters_range[4]):\n",
    "\n",
    "    site_data_copy=site_data.copy()\n",
    "\n",
    "    #writing main parameters\n",
    "    site_data_copy['SiteParameters']['SoilProfileParameters'][0][our_keys[0]][0]=float(soc) \n",
    "#     site_data_copy['SiteParameters']['SoilProfileParameters'][0][our_keys[1]]=ka5\n",
    "#    site_data_copy['SiteParameters']['SoilProfileParameters'][0][our_keys[1]][0]=float(pv)\n",
    "    site_data_copy['SiteParameters']['SoilProfileParameters'][0][our_keys[1]][0]=float(ph)\n",
    "    site_data_copy['SiteParameters']['SoilProfileParameters'][0][our_keys[2]][0]=float(cn)\n",
    "    site_data_copy['SiteParameters']['SoilProfileParameters'][0][our_keys[3]][0]=float(bd)\n",
    "\n",
    "\n",
    "\n",
    "    #writing texture parameters\n",
    "#     for c in range(len(texture_keys)):\n",
    "#         data = soil_texture[np.where(soil_texture==ka5)[0][0],:][1:]\n",
    "#         site_data_copy['SiteParameters']['SoilProfileParameters'][0][texture_keys[c]][0]=data[c]\n",
    "\n",
    "    #constructing file name \n",
    "    SOC_value = str(site_data_copy['SiteParameters']['SoilProfileParameters'][0][our_keys[0]][0])\n",
    "#     KA5_value = '_KA5' + str(site_data_copy['SiteParameters']['SoilProfileParameters'][0][our_keys[1]])\n",
    " #   PV_value = str(site_data_copy['SiteParameters']['SoilProfileParameters'][0][our_keys[1]][0])\n",
    "    ph_value =  str(site_data_copy['SiteParameters']['SoilProfileParameters'][0][our_keys[1]][0])\n",
    "    CN_value =  str(site_data_copy['SiteParameters']['SoilProfileParameters'][0][our_keys[2]][0])\n",
    "    BD_value =  str(site_data_copy['SiteParameters']['SoilProfileParameters'][0][our_keys[3]][0])\n",
    "\n",
    "\n",
    "    file_name = str(SOC_value)+'_'+str(ph_value)+'_'+str(CN_value)+'_'+str(BD_value)\n",
    "    site_file_name='site'+'_'+file_name+'.json'\n",
    "\n",
    "\n",
    "    with open(site_file_name, 'w', encoding='utf-8') as sitef:\n",
    "        json.dump(site_data_copy, sitef, ensure_ascii=False, indent=4, cls=NpEncoder)\n",
    "\n",
    "    sim_data_copy=sim_data.copy()\n",
    "    sim_data_copy['site.json']=site_file_name\n",
    "    sim_data_copy['output']['file-name']=str(counter)+'out'+'_'+file_name+'.csv'\n",
    "    sim_file_name='sim'+'_'+file_name+'.json'\n",
    "\n",
    "    with open(sim_file_name, 'w', encoding='utf-8') as simf:\n",
    "        json.dump(sim_data_copy, simf, ensure_ascii=False, indent=4, cls=NpEncoder)\n",
    "problem = {\n",
    "    'num_vars':4,\n",
    "    'names':['SOC', 'pH', 'CN', 'BD'],\n",
    "    'bounds':[[2.58, 6.20],\n",
    "              [4.6, 6.9],\n",
    "              [10.9, 12.4],\n",
    "              [10, 12]]}\n",
    "\n",
    "param_values = saltelli.sample(problem, 100)\n",
    "counter=1000000\n",
    "for st in range(len(param_values)):\n",
    "    writting_files(param_values[st], counter)\n",
    "    counter+=1"
   ]
  }
 ],
 "metadata": {
  "kernelspec": {
   "display_name": "Python 3",
   "language": "python",
   "name": "python3"
  },
  "language_info": {
   "codemirror_mode": {
    "name": "ipython",
    "version": 3
   },
   "file_extension": ".py",
   "mimetype": "text/x-python",
   "name": "python",
   "nbconvert_exporter": "python",
   "pygments_lexer": "ipython3",
   "version": "3.7.4"
  }
 },
 "nbformat": 4,
 "nbformat_minor": 2
}
