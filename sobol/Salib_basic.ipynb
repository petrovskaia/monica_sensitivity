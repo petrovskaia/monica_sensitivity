{
 "cells": [
  {
   "cell_type": "code",
   "execution_count": 1,
   "metadata": {},
   "outputs": [],
   "source": [
    "import numpy as np\n",
    "import scipy\n",
    "import matplotlib"
   ]
  },
  {
   "cell_type": "code",
   "execution_count": 2,
   "metadata": {},
   "outputs": [],
   "source": [
    "import SALib\n"
   ]
  },
  {
   "cell_type": "code",
   "execution_count": 3,
   "metadata": {},
   "outputs": [],
   "source": [
    "from SALib.sample import saltelli"
   ]
  },
  {
   "cell_type": "code",
   "execution_count": 13,
   "metadata": {},
   "outputs": [],
   "source": [
    "problem = {\n",
    "    'num_vars': 4,\n",
    "    'names': ['SOC', 'PV', 'pH', 'CN'],\n",
    "    'bounds': [[2.58, 6.20],\n",
    "               [0.48, 0.67],\n",
    "               [4.6, 6.9],\n",
    "               [10.9, 12.4]]\n",
    "}"
   ]
  },
  {
   "cell_type": "code",
   "execution_count": 16,
   "metadata": {},
   "outputs": [],
   "source": [
    "param_values = saltelli.sample(problem, 1000)"
   ]
  },
  {
   "cell_type": "code",
   "execution_count": 17,
   "metadata": {},
   "outputs": [
    {
     "data": {
      "text/plain": [
       "array([[ 3.37541016,  0.49836914,  5.79267578, 11.91513672],\n",
       "       [ 3.59458984,  0.49836914,  5.79267578, 11.91513672],\n",
       "       [ 3.37541016,  0.65237305,  5.79267578, 11.91513672],\n",
       "       [ 3.37541016,  0.49836914,  4.70556641, 11.91513672],\n",
       "       [ 3.37541016,  0.49836914,  5.79267578, 12.24912109],\n",
       "       [ 3.37541016,  0.65237305,  4.70556641, 12.24912109],\n",
       "       [ 3.59458984,  0.49836914,  4.70556641, 12.24912109],\n",
       "       [ 3.59458984,  0.65237305,  5.79267578, 12.24912109],\n",
       "       [ 3.59458984,  0.65237305,  4.70556641, 11.91513672],\n",
       "       [ 3.59458984,  0.65237305,  4.70556641, 12.24912109]])"
      ]
     },
     "execution_count": 17,
     "metadata": {},
     "output_type": "execute_result"
    }
   ],
   "source": [
    "(param_values[:10])"
   ]
  },
  {
   "cell_type": "code",
   "execution_count": 12,
   "metadata": {},
   "outputs": [],
   "source": [
    "np.savetxt(\"Parameters.csv\", param_values, delimiter=',', fmt='%d')"
   ]
  },
  {
   "cell_type": "code",
   "execution_count": 2,
   "metadata": {},
   "outputs": [],
   "source": [
    "\n",
    "# In[50]:\n",
    "\n",
    "\n",
    "import numpy as np\n",
    "import pandas as pd\n",
    "import json\n",
    "import pickle\n",
    "import csv\n",
    "from pandas.io.json import json_normalize\n",
    "import scipy\n",
    "import SALib\n",
    "from SALib.sample import saltelli\n",
    "    \n",
    "def writting_files(str_values):\n",
    "\n",
    "#     import itertools\n",
    "\n",
    "    soc,pv,ph,cn = str_values \n",
    "    \n",
    "    class NpEncoder(json.JSONEncoder):\n",
    "        def default(self, obj):\n",
    "            if isinstance(obj, np.integer):\n",
    "                return int(obj)\n",
    "            elif isinstance(obj, np.floating):\n",
    "                return float(obj)\n",
    "            elif isinstance(obj, np.ndarray):\n",
    "                return obj.tolist()\n",
    "            else:\n",
    "                return super(NpEncoder, self).default(obj)\n",
    "\n",
    "    site_file = './work_kshen/site-min-kshen.json' #site-min-kshen-3-layers.json'\n",
    "    sim_file = './work_kshen/sim-min-kshen.json'\n",
    "\n",
    "#     soil_texture_pd = pd.read_csv('SoilTexture.csv', sep=\";\") \n",
    "#     soil_texture = np.asarray(soil_texture_pd.iloc[:,[0,2,4,5,6,7]])\n",
    "\n",
    "    with open(site_file) as sf:\n",
    "        site_data = json.load(sf)\n",
    "\n",
    "    with open(sim_file) as simf:\n",
    "        sim_data = json.load(simf)   \n",
    "\n",
    "    #selecting necessary keys\n",
    "    keys = list(site_data['SiteParameters']['SoilProfileParameters'][0].keys())\n",
    "#     texture_keys = list(keys.copy()[i] for i in [3,4,7,8,11])\n",
    "    our_keys = list(keys.copy()[i] for i in [1,6,9,10])\n",
    "\n",
    "    #creating range for every soil parameter\n",
    "#     organic_carbon_range=np.arange(2.58,6.20,0.4)\n",
    "#     texture_class_range=list(soil_texture_pd['KA5-class'])\n",
    "#     pore_volume_range=np.arange(0.48,0.67,0.02)\n",
    "#     ph_range=np.arange(4.6,6.9,0.25)\n",
    "#     cn_range=np.arange(10.9,12.4,0.15)\n",
    "    \n",
    "    \n",
    "    soc=soc\n",
    "    pv=pv\n",
    "    ph=ph\n",
    "    cn=cn\n",
    "\n",
    "\n",
    "#     soil_parameters_range = [organic_carbon_range,texture_class_range,pore_volume_range,\n",
    "#                              ph_range,cn_range]\n",
    "\n",
    "    \n",
    "\n",
    "    soil_parameters_names = ['SOC', 'PV', 'pH', 'CN']\n",
    "\n",
    "\n",
    "    #saving site-file and sim-file\n",
    "    #for the first key - SoilOrganicCarbon\n",
    "    # for parameter in range(len(soil_parameters_range)):\n",
    "#     for soc,ka5,pv,ph,cn in itertools.product(soil_parameters_range[0],soil_parameters_range[1],\\\n",
    "#                                               soil_parameters_range[2],soil_parameters_range[3],soil_parameters_range[4]):\n",
    "\n",
    "    site_data_copy=site_data.copy()\n",
    "\n",
    "    #writing main parameters\n",
    "    site_data_copy['SiteParameters']['SoilProfileParameters'][0][our_keys[0]][0]=float('{:.3f}'.format(soc)) \n",
    "#     site_data_copy['SiteParameters']['SoilProfileParameters'][0][our_keys[1]]=ka5\n",
    "    site_data_copy['SiteParameters']['SoilProfileParameters'][0][our_keys[1]][0]=float('{:.3f}'.format(pv))\n",
    "    site_data_copy['SiteParameters']['SoilProfileParameters'][0][our_keys[2]][0]=float('{:.3f}'.format(ph))\n",
    "    site_data_copy['SiteParameters']['SoilProfileParameters'][0][our_keys[3]][0]=float('{:.3f}'.format(cn))\n"
   ]
  },
  {
   "cell_type": "code",
   "execution_count": 4,
   "metadata": {},
   "outputs": [],
   "source": [
    "msk=12.32435345"
   ]
  },
  {
   "cell_type": "code",
   "execution_count": 11,
   "metadata": {},
   "outputs": [
    {
     "name": "stdout",
     "output_type": "stream",
     "text": [
      "12.32435345\n"
     ]
    }
   ],
   "source": [
    "xxx=float((msk))\n",
    "print(xxx)"
   ]
  },
  {
   "cell_type": "code",
   "execution_count": 8,
   "metadata": {},
   "outputs": [
    {
     "data": {
      "text/plain": [
       "12.32"
      ]
     },
     "execution_count": 8,
     "metadata": {},
     "output_type": "execute_result"
    }
   ],
   "source": [
    "xxx"
   ]
  },
  {
   "cell_type": "code",
   "execution_count": null,
   "metadata": {},
   "outputs": [],
   "source": [
    "#!/usr/bin/env python\n",
    "# coding: utf-8\n",
    "\n",
    "# In[50]:\n",
    "\n",
    "\n",
    "import numpy as np\n",
    "import pandas as pd\n",
    "import json\n",
    "import pickle\n",
    "import csv\n",
    "from pandas.io.json import json_normalize\n",
    "import scipy\n",
    "import SALib\n",
    "from SALib.sample import saltelli\n",
    "    \n",
    "def writting_files(str_values):\n",
    "\n",
    "#     import itertools\n",
    "\n",
    "    soc,pv,ph,cn = str_values \n",
    "    \n",
    "    class NpEncoder(json.JSONEncoder):\n",
    "        def default(self, obj):\n",
    "            if isinstance(obj, np.integer):\n",
    "                return int(obj)\n",
    "            elif isinstance(obj, np.floating):\n",
    "                return float(obj)\n",
    "            elif isinstance(obj, np.ndarray):\n",
    "                return obj.tolist()\n",
    "            else:\n",
    "                return super(NpEncoder, self).default(obj)\n",
    "\n",
    "    site_file = './work_kshen/site-min-kshen.json' #site-min-kshen-3-layers.json'\n",
    "    sim_file = './work_kshen/sim-min-kshen.json'\n",
    "\n",
    "#     soil_texture_pd = pd.read_csv('SoilTexture.csv', sep=\";\") \n",
    "#     soil_texture = np.asarray(soil_texture_pd.iloc[:,[0,2,4,5,6,7]])\n",
    "\n",
    "    with open(site_file) as sf:\n",
    "        site_data = json.load(sf)\n",
    "\n",
    "    with open(sim_file) as simf:\n",
    "        sim_data = json.load(simf)   \n",
    "\n",
    "    #selecting necessary keys\n",
    "    keys = list(site_data['SiteParameters']['SoilProfileParameters'][0].keys())\n",
    "#     texture_keys = list(keys.copy()[i] for i in [3,4,7,8,11])\n",
    "    our_keys = list(keys.copy()[i] for i in [1,6,9,10])\n",
    "\n",
    "    #creating range for every soil parameter\n",
    "#     organic_carbon_range=np.arange(2.58,6.20,0.4)\n",
    "#     texture_class_range=list(soil_texture_pd['KA5-class'])\n",
    "#     pore_volume_range=np.arange(0.48,0.67,0.02)\n",
    "#     ph_range=np.arange(4.6,6.9,0.25)\n",
    "#     cn_range=np.arange(10.9,12.4,0.15)\n",
    "    \n",
    "    \n",
    "    soc=soc\n",
    "    pv=pv\n",
    "    ph=ph\n",
    "    cn=cn\n",
    "\n",
    "\n",
    "#     soil_parameters_range = [organic_carbon_range,texture_class_range,pore_volume_range,\n",
    "#                              ph_range,cn_range]\n",
    "\n",
    "    \n",
    "\n",
    "    soil_parameters_names = ['SOC', 'PV', 'pH', 'CN']\n",
    "\n",
    "\n",
    "    #saving site-file and sim-file\n",
    "    #for the first key - SoilOrganicCarbon\n",
    "    # for parameter in range(len(soil_parameters_range)):\n",
    "#     for soc,ka5,pv,ph,cn in itertools.product(soil_parameters_range[0],soil_parameters_range[1],\\\n",
    "#                                               soil_parameters_range[2],soil_parameters_range[3],soil_parameters_range[4]):\n",
    "\n",
    "    site_data_copy=site_data.copy()\n",
    "\n",
    "    #writing main parameters\n",
    "    site_data_copy['SiteParameters']['SoilProfileParameters'][0][our_keys[0]][0]=float('{:.3f}'.format(soc)) \n",
    "#     site_data_copy['SiteParameters']['SoilProfileParameters'][0][our_keys[1]]=ka5\n",
    "    site_data_copy['SiteParameters']['SoilProfileParameters'][0][our_keys[1]][0]=float('{:.3f}'.format(pv))\n",
    "    site_data_copy['SiteParameters']['SoilProfileParameters'][0][our_keys[2]][0]=float('{:.3f}'.format(ph))\n",
    "    site_data_copy['SiteParameters']['SoilProfileParameters'][0][our_keys[3]][0]=float('{:.3f}'.format(cn))\n",
    "\n",
    "    #writing texture parameters\n",
    "#     for c in range(len(texture_keys)):\n",
    "#         data = soil_texture[np.where(soil_texture==ka5)[0][0],:][1:]\n",
    "#         site_data_copy['SiteParameters']['SoilProfileParameters'][0][texture_keys[c]][0]=data[c]\n",
    "\n",
    "    #constructing file name \n",
    "    SOC_value = 'SOC' + str(site_data_copy['SiteParameters']['SoilProfileParameters'][0][our_keys[0]][0])\n",
    "#     KA5_value = '_KA5' + str(site_data_copy['SiteParameters']['SoilProfileParameters'][0][our_keys[1]])\n",
    "    PV_value = '_PV' + str(site_data_copy['SiteParameters']['SoilProfileParameters'][0][our_keys[1]][0])\n",
    "    ph_value = '_pH' + str(site_data_copy['SiteParameters']['SoilProfileParameters'][0][our_keys[2]][0])\n",
    "    CN_value = '_CN' + str(site_data_copy['SiteParameters']['SoilProfileParameters'][0][our_keys[3]][0])\n",
    "\n",
    "\n",
    "    file_name = str(SOC_value)+    str(PV_value)+ str(ph_value)+str(CN_value)\n",
    "    site_file_name='site'+'_'+file_name+'.json'\n",
    "\n",
    "\n",
    "    with open(site_file_name, 'w', encoding='utf-8') as sitef:\n",
    "        json.dump(site_data_copy, sitef, ensure_ascii=False, indent=4, cls=NpEncoder)\n",
    "\n",
    "    sim_data_copy=sim_data.copy()\n",
    "    sim_data_copy['site.json']=site_file_name\n",
    "    sim_data_copy['output']['file-name']='out'+'_'+file_name+'.csv'\n",
    "    sim_file_name='sim'+'_'+file_name+'.json'\n",
    "\n",
    "    with open(sim_file_name, 'w', encoding='utf-8') as simf:\n",
    "        json.dump(sim_data_copy, simf, ensure_ascii=False,                   indent=4, cls=NpEncoder)\n",
    "            \n",
    "        \n",
    "\n",
    "\n",
    "# In[51]:\n",
    "\n",
    "\n",
    "problem = {\n",
    "    'num_vars':4,\n",
    "    'names':['SOC', 'PV', 'pH', 'CN'],\n",
    "    'bounds':[[2.58, 6.20],\n",
    "              [4.6, 6.9],\n",
    "              [0.48, 0.67],\n",
    "              [10.9, 12.4]]\n",
    "}\n",
    "\n",
    "\n",
    "# In[57]:\n",
    "\n",
    "\n",
    "param_values = saltelli.sample(problem, 10)\n",
    "\n",
    "\n",
    "# In[56]:\n",
    "\n",
    "\n",
    "for st in range(len(values)):\n",
    "    writting_files(values[st])\n",
    "\n",
    "\n",
    "# In[ ]:\n",
    "\n"
   ]
  }
 ],
 "metadata": {
  "kernelspec": {
   "display_name": "Python 3",
   "language": "python",
   "name": "python3"
  },
  "language_info": {
   "codemirror_mode": {
    "name": "ipython",
    "version": 3
   },
   "file_extension": ".py",
   "mimetype": "text/x-python",
   "name": "python",
   "nbconvert_exporter": "python",
   "pygments_lexer": "ipython3",
   "version": "3.7.4"
  }
 },
 "nbformat": 4,
 "nbformat_minor": 2
}
